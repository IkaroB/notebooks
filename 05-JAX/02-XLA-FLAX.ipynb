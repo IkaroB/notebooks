{
 "cells": [
  {
   "cell_type": "markdown",
   "id": "d146301b",
   "metadata": {},
   "source": [
    "# 5.3. XLA Compiler and FLAX Library"
   ]
  },
  {
   "cell_type": "code",
   "execution_count": 1,
   "id": "722d49e0",
   "metadata": {},
   "outputs": [],
   "source": [
    "import flax"
   ]
  }
 ],
 "metadata": {
  "kernelspec": {
   "display_name": "Python 3 (ipykernel)",
   "language": "python",
   "name": "python3"
  },
  "language_info": {
   "codemirror_mode": {
    "name": "ipython",
    "version": 3
   },
   "file_extension": ".py",
   "mimetype": "text/x-python",
   "name": "python",
   "nbconvert_exporter": "python",
   "pygments_lexer": "ipython3",
   "version": "3.10.2"
  }
 },
 "nbformat": 4,
 "nbformat_minor": 5
}
